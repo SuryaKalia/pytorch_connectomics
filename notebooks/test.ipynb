{
 "cells": [
  {
   "cell_type": "code",
   "execution_count": 1,
   "metadata": {},
   "outputs": [
    {
     "name": "stderr",
     "output_type": "stream",
     "text": [
      "2023-06-07 18:44:21.670361: I tensorflow/core/util/port.cc:110] oneDNN custom operations are on. You may see slightly different numerical results due to floating-point round-off errors from different computation orders. To turn them off, set the environment variable `TF_ENABLE_ONEDNN_OPTS=0`.\n",
      "2023-06-07 18:44:21.672341: I tensorflow/tsl/cuda/cudart_stub.cc:28] Could not find cuda drivers on your machine, GPU will not be used.\n",
      "2023-06-07 18:44:21.709042: I tensorflow/tsl/cuda/cudart_stub.cc:28] Could not find cuda drivers on your machine, GPU will not be used.\n",
      "2023-06-07 18:44:21.709632: I tensorflow/core/platform/cpu_feature_guard.cc:182] This TensorFlow binary is optimized to use available CPU instructions in performance-critical operations.\n",
      "To enable the following instructions: AVX2 AVX512F AVX512_VNNI FMA, in other operations, rebuild TensorFlow with the appropriate compiler flags.\n",
      "2023-06-07 18:44:22.352424: W tensorflow/compiler/tf2tensorrt/utils/py_utils.cc:38] TF-TRT Warning: Could not find TensorRT\n"
     ]
    }
   ],
   "source": [
    "import numpy as np\n",
    "import torch\n",
    "import torch.utils.data\n",
    "from connectomics.data.dataset import VolumeDatasetCond\n",
    "from connectomics.data.utils import readh5, syn_sem2inst, seg2polarity\n",
    "from connectomics.data.dataset.collate import collate_fn_train"
   ]
  },
  {
   "cell_type": "code",
   "execution_count": 2,
   "metadata": {},
   "outputs": [],
   "source": [
    "from matplotlib import pyplot as plt\n",
    "from mpl_toolkits.axes_grid1 import ImageGrid\n",
    "\n",
    "def show(image, cmap='viridis', title='Test Title', interpolation=None):  \n",
    "    num_imgs = image.shape[-3] # c (optional), z, y, x\n",
    "    fig = plt.figure(figsize=(20., 3.))\n",
    "    fig.suptitle(title, fontsize=14)\n",
    "    grid = ImageGrid(fig, 111,  # similar to subplot(111)\n",
    "                     nrows_ncols=(1, num_imgs),  # creates 2x2 grid of axes\n",
    "                     axes_pad=0.1,  # pad between axes in inch.\n",
    "                     )\n",
    "    image_list = np.split(image, num_imgs, -3)\n",
    "    for ax, im in zip(grid, [np.squeeze(x) for x in image_list]):\n",
    "        # Iterating over the grid returns the Axes.\n",
    "        if im.ndim == 3:\n",
    "            im = im.transpose(1,2,0)\n",
    "        ax.imshow(im, cmap=cmap, interpolation=interpolation)\n",
    "        ax.axis('off')\n",
    "\n",
    "    plt.show()"
   ]
  },
  {
   "cell_type": "code",
   "execution_count": 10,
   "metadata": {},
   "outputs": [
    {
     "name": "stdout",
     "output_type": "stream",
     "text": [
      "(2,) <U6\n"
     ]
    }
   ],
   "source": [
    "# load volumes\n",
    "# img = readh5(\"../../../datasets/cremi/sample_A_20160501.hdf\", \"volumes/raw\")\n",
    "# img = readh5(\"../../../datasets/cremi/sample_A_20160501.hdf\", \"volumes/labels\")\n",
    "# img = readh5(\"../../../datasets/cremi/sample_A_20160501.hdf\", \"volumes/labels/clefts\")\n",
    "# img = readh5(\"../../../datasets/cremi/sample_A_20160501.hdf\", \"volumes/labels/neuron_ids\")\n",
    "img = readh5(\"../../../datasets/cremi/sample_A_20160501.hdf\", \"volumes\")\n",
    "\n",
    "\n",
    "\n",
    "\n",
    "# img = readh5(\"../../../datasets/cremi/sample_A_padded_20160501.hdf\")\n",
    "\n",
    "# syn = readh5(\"../datasets/synapse/syn.h5\")\n",
    "# syn = syn_sem2inst(syn)\n",
    "print(img.shape, img.dtype)\n",
    "# print(syn.shape, syn.dtype)\n",
    "\n",
    "# polarity = seg2polarity(syn)\n",
    "# show(img[50:60,:400,:400], title=\"EM Images\", cmap='gray')\n",
    "# show(polarity[:,50:60,:400,:400], title=\"Synaptic Polarity Masks\")"
   ]
  },
  {
   "cell_type": "code",
   "execution_count": 11,
   "metadata": {},
   "outputs": [
    {
     "name": "stdout",
     "output_type": "stream",
     "text": [
      "['labels' 'raw']\n"
     ]
    }
   ],
   "source": [
    "print(img)"
   ]
  },
  {
   "cell_type": "code",
   "execution_count": null,
   "metadata": {},
   "outputs": [],
   "source": []
  },
  {
   "cell_type": "code",
   "execution_count": null,
   "metadata": {},
   "outputs": [],
   "source": []
  }
 ],
 "metadata": {
  "kernelspec": {
   "display_name": "py3_torch",
   "language": "python",
   "name": "python3"
  },
  "language_info": {
   "codemirror_mode": {
    "name": "ipython",
    "version": 3
   },
   "file_extension": ".py",
   "mimetype": "text/x-python",
   "name": "python",
   "nbconvert_exporter": "python",
   "pygments_lexer": "ipython3",
   "version": "3.8.16"
  },
  "orig_nbformat": 4
 },
 "nbformat": 4,
 "nbformat_minor": 2
}
